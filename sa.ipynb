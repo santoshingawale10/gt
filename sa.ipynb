{
 "cells": [
  {
   "cell_type": "markdown",
   "id": "b36684db",
   "metadata": {},
   "source": [
    "Q1(1) python code is only interpreted "
   ]
  },
  {
   "cell_type": "code",
   "execution_count": null,
   "id": "e3195328",
   "metadata": {},
   "outputs": [],
   "source": [
    "Q1 (2) It indicates a private variables of a class "
   ]
  },
  {
   "cell_type": "code",
   "execution_count": null,
   "id": "c195445b",
   "metadata": {},
   "outputs": [],
   "source": [
    "Q1 (3) you don't have covid,test says you have"
   ]
  },
  {
   "cell_type": "code",
   "execution_count": null,
   "id": "437b1f28",
   "metadata": {},
   "outputs": [],
   "source": [
    "Q1 (4) 84"
   ]
  },
  {
   "cell_type": "code",
   "execution_count": null,
   "id": "c3c7c16b",
   "metadata": {},
   "outputs": [],
   "source": [
    "Q1 (5) *"
   ]
  },
  {
   "cell_type": "code",
   "execution_count": 23,
   "id": "1e12a02a",
   "metadata": {},
   "outputs": [],
   "source": [
    "import pandas as pd\n",
    "import numpy as np\n",
    "import seaborn as sns\n",
    "import matplotlib.pyplot as plt#"
   ]
  },
  {
   "cell_type": "code",
   "execution_count": 98,
   "id": "06ffe360",
   "metadata": {},
   "outputs": [
    {
     "data": {
      "text/plain": [
       "'C:\\\\Users\\\\Admin'"
      ]
     },
     "execution_count": 98,
     "metadata": {},
     "output_type": "execute_result"
    }
   ],
   "source": [
    "import os\n",
    "os.getcwd()"
   ]
  },
  {
   "cell_type": "code",
   "execution_count": 55,
   "id": "d30e606f",
   "metadata": {},
   "outputs": [],
   "source": [
    "#Q3\n",
    "\n",
    "df = pd.read_csv(r\"C:\\Users\\Admin\\Desktop\\supermarket1.csv\")"
   ]
  },
  {
   "cell_type": "code",
   "execution_count": 56,
   "id": "39666b62",
   "metadata": {},
   "outputs": [
    {
     "data": {
      "text/html": [
       "<div>\n",
       "<style scoped>\n",
       "    .dataframe tbody tr th:only-of-type {\n",
       "        vertical-align: middle;\n",
       "    }\n",
       "\n",
       "    .dataframe tbody tr th {\n",
       "        vertical-align: top;\n",
       "    }\n",
       "\n",
       "    .dataframe thead th {\n",
       "        text-align: right;\n",
       "    }\n",
       "</style>\n",
       "<table border=\"1\" class=\"dataframe\">\n",
       "  <thead>\n",
       "    <tr style=\"text-align: right;\">\n",
       "      <th></th>\n",
       "      <th>Invoice ID</th>\n",
       "      <th>Branch</th>\n",
       "      <th>City</th>\n",
       "      <th>Customer type</th>\n",
       "      <th>Gender</th>\n",
       "      <th>Product line</th>\n",
       "      <th>Unit price</th>\n",
       "      <th>Quantity</th>\n",
       "      <th>Tax 5%</th>\n",
       "      <th>Total</th>\n",
       "      <th>Date</th>\n",
       "      <th>Time</th>\n",
       "      <th>Payment</th>\n",
       "      <th>cogs</th>\n",
       "      <th>gross margin percentage</th>\n",
       "      <th>gross income</th>\n",
       "      <th>Rating</th>\n",
       "    </tr>\n",
       "  </thead>\n",
       "  <tbody>\n",
       "    <tr>\n",
       "      <th>0</th>\n",
       "      <td>750-67-8428</td>\n",
       "      <td>A</td>\n",
       "      <td>Yangon</td>\n",
       "      <td>Member</td>\n",
       "      <td>Female</td>\n",
       "      <td>Health and beauty</td>\n",
       "      <td>74.69</td>\n",
       "      <td>7</td>\n",
       "      <td>26.1415</td>\n",
       "      <td>548.9715</td>\n",
       "      <td>1/5/2019</td>\n",
       "      <td>13:08</td>\n",
       "      <td>Ewallet</td>\n",
       "      <td>522.83</td>\n",
       "      <td>4.761905</td>\n",
       "      <td>26.1415</td>\n",
       "      <td>9.1</td>\n",
       "    </tr>\n",
       "    <tr>\n",
       "      <th>1</th>\n",
       "      <td>226-31-3081</td>\n",
       "      <td>C</td>\n",
       "      <td>Naypyitaw</td>\n",
       "      <td>Normal</td>\n",
       "      <td>Female</td>\n",
       "      <td>Electronic accessories</td>\n",
       "      <td>15.28</td>\n",
       "      <td>5</td>\n",
       "      <td>3.8200</td>\n",
       "      <td>80.2200</td>\n",
       "      <td>3/8/2019</td>\n",
       "      <td>10:29</td>\n",
       "      <td>Cash</td>\n",
       "      <td>76.40</td>\n",
       "      <td>4.761905</td>\n",
       "      <td>3.8200</td>\n",
       "      <td>9.6</td>\n",
       "    </tr>\n",
       "    <tr>\n",
       "      <th>2</th>\n",
       "      <td>631-41-3108</td>\n",
       "      <td>A</td>\n",
       "      <td>Yangon</td>\n",
       "      <td>Normal</td>\n",
       "      <td>Male</td>\n",
       "      <td>Home and lifestyle</td>\n",
       "      <td>46.33</td>\n",
       "      <td>7</td>\n",
       "      <td>16.2155</td>\n",
       "      <td>340.5255</td>\n",
       "      <td>3/3/2019</td>\n",
       "      <td>13:23</td>\n",
       "      <td>Credit card</td>\n",
       "      <td>324.31</td>\n",
       "      <td>4.761905</td>\n",
       "      <td>16.2155</td>\n",
       "      <td>7.4</td>\n",
       "    </tr>\n",
       "    <tr>\n",
       "      <th>3</th>\n",
       "      <td>123-19-1176</td>\n",
       "      <td>A</td>\n",
       "      <td>Yangon</td>\n",
       "      <td>Member</td>\n",
       "      <td>Male</td>\n",
       "      <td>Health and beauty</td>\n",
       "      <td>58.22</td>\n",
       "      <td>8</td>\n",
       "      <td>23.2880</td>\n",
       "      <td>489.0480</td>\n",
       "      <td>1/27/2019</td>\n",
       "      <td>20:33</td>\n",
       "      <td>Ewallet</td>\n",
       "      <td>465.76</td>\n",
       "      <td>4.761905</td>\n",
       "      <td>23.2880</td>\n",
       "      <td>8.4</td>\n",
       "    </tr>\n",
       "    <tr>\n",
       "      <th>4</th>\n",
       "      <td>373-73-7910</td>\n",
       "      <td>A</td>\n",
       "      <td>Yangon</td>\n",
       "      <td>Normal</td>\n",
       "      <td>Male</td>\n",
       "      <td>Sports and travel</td>\n",
       "      <td>86.31</td>\n",
       "      <td>7</td>\n",
       "      <td>30.2085</td>\n",
       "      <td>634.3785</td>\n",
       "      <td>2/8/2019</td>\n",
       "      <td>10:37</td>\n",
       "      <td>Ewallet</td>\n",
       "      <td>604.17</td>\n",
       "      <td>4.761905</td>\n",
       "      <td>30.2085</td>\n",
       "      <td>5.3</td>\n",
       "    </tr>\n",
       "  </tbody>\n",
       "</table>\n",
       "</div>"
      ],
      "text/plain": [
       "    Invoice ID Branch       City Customer type  Gender  \\\n",
       "0  750-67-8428      A     Yangon        Member  Female   \n",
       "1  226-31-3081      C  Naypyitaw        Normal  Female   \n",
       "2  631-41-3108      A     Yangon        Normal    Male   \n",
       "3  123-19-1176      A     Yangon        Member    Male   \n",
       "4  373-73-7910      A     Yangon        Normal    Male   \n",
       "\n",
       "             Product line  Unit price  Quantity   Tax 5%     Total       Date  \\\n",
       "0       Health and beauty       74.69         7  26.1415  548.9715   1/5/2019   \n",
       "1  Electronic accessories       15.28         5   3.8200   80.2200   3/8/2019   \n",
       "2      Home and lifestyle       46.33         7  16.2155  340.5255   3/3/2019   \n",
       "3       Health and beauty       58.22         8  23.2880  489.0480  1/27/2019   \n",
       "4       Sports and travel       86.31         7  30.2085  634.3785   2/8/2019   \n",
       "\n",
       "    Time      Payment    cogs  gross margin percentage  gross income  Rating  \n",
       "0  13:08      Ewallet  522.83                 4.761905       26.1415     9.1  \n",
       "1  10:29         Cash   76.40                 4.761905        3.8200     9.6  \n",
       "2  13:23  Credit card  324.31                 4.761905       16.2155     7.4  \n",
       "3  20:33      Ewallet  465.76                 4.761905       23.2880     8.4  \n",
       "4  10:37      Ewallet  604.17                 4.761905       30.2085     5.3  "
      ]
     },
     "execution_count": 56,
     "metadata": {},
     "output_type": "execute_result"
    }
   ],
   "source": [
    "df.head()"
   ]
  },
  {
   "cell_type": "code",
   "execution_count": 61,
   "id": "8decee68",
   "metadata": {},
   "outputs": [
    {
     "data": {
      "text/plain": [
       "<Axes: xlabel='Payment', ylabel='count'>"
      ]
     },
     "execution_count": 61,
     "metadata": {},
     "output_type": "execute_result"
    },
    {
     "data": {
      "image/png": "[encoded data removed]",
      "text/plain": [
       "<Figure size 640x480 with 1 Axes>"
      ]
     },
     "metadata": {},
     "output_type": "display_data"
    }
   ],
   "source": [
    "sns.countplot(x=\"Payment\",hue =\"Gender\",data=df)"
   ]
  },
  {
   "cell_type": "code",
   "execution_count": 70,
   "id": "bcc5843a",
   "metadata": {},
   "outputs": [
    {
     "data": {
      "text/plain": [
       "Fashion accessories       178\n",
       "Food and beverages        174\n",
       "Electronic accessories    170\n",
       "Sports and travel         166\n",
       "Home and lifestyle        160\n",
       "Health and beauty         152\n",
       "Name: Product line, dtype: int64"
      ]
     },
     "execution_count": 70,
     "metadata": {},
     "output_type": "execute_result"
    }
   ],
   "source": [
    "df[\"Product line\"].value_counts()"
   ]
  },
  {
   "cell_type": "markdown",
   "id": "0ac9a98a",
   "metadata": {},
   "source": [
    "fashion accessories is highest selling category"
   ]
  },
  {
   "cell_type": "markdown",
   "id": "8b6d851f",
   "metadata": {},
   "source": [
    "Q.6\n",
    "Method overriding it is an concept of object oriented programming langangaue\n",
    "where a subclass provides a specific implementation for a method that\n",
    "is already defined in its superclass. This allows the subclass to customize or we can say  extend the behavior\n",
    "of the inherited method is known as method overriding\n",
    "\n",
    "Example of overriding\n",
    "\n",
    "class Dog(Animal):\n",
    "    def speak(self):\n",
    "        print(\"Dog barks\")\n",
    "\n",
    "class Cat(Animal):\n",
    "    def speak(self):\n",
    "        print(\"Cat meows\")\n"
   ]
  },
  {
   "cell_type": "code",
   "execution_count": null,
   "id": "31f32ade",
   "metadata": {},
   "outputs": [],
   "source": [
    "#Q9\n",
    "what is central limit therom\n",
    " Central limit theroem:\n",
    "        concept of central limit theroem in statistics is describes the distribution of sample means or\n",
    "        sums drawn.regardless of the shape of the population's original distribution.\n",
    "        It is a powerful tool for making inferences about a population based on a sample.\n"
   ]
  },
  {
   "cell_type": "code",
   "execution_count": null,
   "id": "ff3e61e4",
   "metadata": {},
   "outputs": [],
   "source": [
    "#Q8\n",
    "    Types of distributuion :\n",
    "                            1. Continous disrtibution\n",
    "                            2. Discrete distribution\n",
    "                            "
   ]
  },
  {
   "cell_type": "code",
   "execution_count": 80,
   "id": "5c764f8a",
   "metadata": {},
   "outputs": [
    {
     "name": "stdout",
     "output_type": "stream",
     "text": [
      "Enter an integer: 5\n",
      "5 is not a multiple of both 5 and 7.\n"
     ]
    }
   ],
   "source": [
    "#Q.7\n",
    "    #write a python program to check whether the given integear is a multiple of both 5 and 7?\n",
    "\n",
    "# Get an integer as input\n",
    "num = int(input(\"Enter an integer: \"))\n",
    "\n",
    "if num % 5 == 0 and num % 7 == 0:\n",
    "    print(f\"{num} is a multiple of both 5 and 7.\")\n",
    "else:\n",
    "    print(f\"{num} is not a multiple of both 5 and 7.\")\n"
   ]
  },
  {
   "cell_type": "code",
   "execution_count": null,
   "id": "e7effad3",
   "metadata": {},
   "outputs": [],
   "source": []
  },
  {
   "cell_type": "code",
   "execution_count": 13,
   "id": "6af72d60",
   "metadata": {},
   "outputs": [],
   "source": [
    "import pandas as pd\n",
    "import numpy as np\n",
    "import seaborn as sns\n",
    "import matplotlib.pyplot as plt\n"
   ]
  },
  {
   "cell_type": "code",
   "execution_count": null,
   "id": "fa1b784c",
   "metadata": {},
   "outputs": [],
   "source": [
    "#Q.5:\n",
    "\n",
    "The probability of  the first king is 4/52 \n",
    "\n",
    "To find the probability of both events happening together (drawing two kings), \n",
    "you multiply the probabilitie\n",
    "\n",
    "(4/52) * (3/51) = (1/13) * (1/17) = 1/221\n",
    "\n",
    "the probability of drawing two kings from a standard deck of 52 is = (1/221)"
   ]
  },
  {
   "cell_type": "code",
   "execution_count": 75,
   "id": "4ccb78c8",
   "metadata": {
    "scrolled": true
   },
   "outputs": [
    {
     "name": "stdout",
     "output_type": "stream",
     "text": [
      "[1, 4, 9, 16, 25, 36, 49]\n"
     ]
    }
   ],
   "source": [
    "# Define the input list\n",
    "numbers = [1, 2, 3, 4, 5, 6, 7]\n",
    "squared_numbers = []\n",
    "\n",
    "for number in numbers:\n",
    "    squared = number ** 2\n",
    "    squared_numbers.append(squared)\n",
    "print(squared_numbers)\n"
   ]
  },
  {
   "cell_type": "code",
   "execution_count": 81,
   "id": "ac62d863",
   "metadata": {},
   "outputs": [
    {
     "name": "stdout",
     "output_type": "stream",
     "text": [
      "{'sunday': 30.5, 'monday': 32.6, 'tuesday': 31.8, 'wednesday': 33.4, 'thursday': 29.8, 'friday': 30.2, 'saturday': 29.8}\n"
     ]
    }
   ],
   "source": [
    "#Q4\n",
    "\n",
    "days = [\"sunday\", \"monday\", \"tuesday\", \"wednesday\", \"thursday\", \"friday\", \"saturday\"]\n",
    "tempc = [30.5, 32.6, 31.8, 33.4, 29.8, 30.2, 29.8]\n",
    "\n",
    "weekly_temp_dict = {day: temp for day, temp in zip(days, tempc)}\n",
    "\n",
    "print(weekly_temp_dict)\n"
   ]
  },
  {
   "cell_type": "code",
   "execution_count": 83,
   "id": "4ead683d",
   "metadata": {},
   "outputs": [],
   "source": [
    "#Q10\n",
    "\n",
    "def perform_operations(num1, num2, operation):\n",
    "    if operation == 'add':\n",
    "        result = num1 + num2\n",
    "    elif operation == 'subtract':\n",
    "        result = num1 - num2\n",
    "    elif operation == 'multiply':\n",
    "        result = num1 * num2"
   ]
  },
  {
   "cell_type": "code",
   "execution_count": 97,
   "id": "b596dadc",
   "metadata": {},
   "outputs": [
    {
     "name": "stdout",
     "output_type": "stream",
     "text": [
      "s\n",
      "n\n",
      "o\n",
      "h\n"
     ]
    }
   ],
   "source": [
    "#Q2\n",
    "\n",
    "s = (\"santosh\")\n",
    "\n",
    "for i in range (len(s)):\n",
    "    if((i%2) == 0):\n",
    "           print(s[i])\n"
   ]
  },
  {
   "cell_type": "code",
   "execution_count": null,
   "id": "022d17f5",
   "metadata": {},
   "outputs": [],
   "source": []
  }
 ],
 "metadata": {
  "kernelspec": {
   "display_name": "Python 3 (ipykernel)",
   "language": "python",
   "name": "python3"
  },
  "language_info": {
   "codemirror_mode": {
    "name": "ipython",
    "version": 3
   },
   "file_extension": ".py",
   "mimetype": "text/x-python",
   "name": "python",
   "nbconvert_exporter": "python",
   "pygments_lexer": "ipython3",
   "version": "3.11.4"
  }
 },
 "nbformat": 4,
 "nbformat_minor": 5
}
