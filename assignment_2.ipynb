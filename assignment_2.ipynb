{
 "cells": [
  {
   "cell_type": "markdown",
   "id": "78db61a2",
   "metadata": {},
   "source": [
    "1) What is the probability of throwing one dice and getting the number greater than 4 ?"
   ]
  },
  {
   "cell_type": "code",
   "execution_count": null,
   "id": "9ee95f87",
   "metadata": {},
   "outputs": [],
   "source": [
    "Probability of throwing one dice,\n",
    "\n",
    "S={1,2,3,4,5,6} \n",
    "\n",
    "n(S)=6 \n",
    "\n",
    "Among these numbers greater than 4 are 5 and 6=2 possible results Required probability to get a number greater than 4 is 2/6=1/3\n",
    "In a single throw of a die the probability of getting a number greater than 4 is 1/3"
   ]
  },
  {
   "cell_type": "markdown",
   "id": "a30dd6e1",
   "metadata": {},
   "source": [
    "2)What is the probability of throwing two dice and getting the sum of the fallen numbers greater than 3 ?"
   ]
  },
  {
   "cell_type": "code",
   "execution_count": null,
   "id": "96fcc891",
   "metadata": {},
   "outputs": [],
   "source": [
    "S={(1,1),(1,2),(1,3),(1,4),(1,5),(1,6) \n",
    "   (2,1),(2,2),(2,3),(2,4),(2,5),(2,6) \n",
    "   (3,1),(3,2),(3,3),(3,4),(3,5),(3,6) \n",
    "   (4,1),(4,2),(4,3),(4,4),(4,5),(4,6) \n",
    "   (5,1),(5,2),(5,3),(5,4),(5,5),(5,6)\n",
    "   (6,1),(6,2),(6,3),(6,4),(6,5),(6,6) }\n",
    "\n",
    "n(S)=36 P(X<=3)={(1,1),(1,2),(2,1)}=3/36=1/12\n",
    "\n",
    "P(X>3)=1-P(X<=3) =1-1/12 =11/12"
   ]
  },
  {
   "cell_type": "markdown",
   "id": "5a3a94e3",
   "metadata": {},
   "source": [
    "3)We select 7 playing cards out of 32. What is the probability that among the selected cards there are exactly three hearts ?"
   ]
  },
  {
   "cell_type": "code",
   "execution_count": null,
   "id": "5d78d4be",
   "metadata": {},
   "outputs": [],
   "source": [
    "Here we use conditional probability for example The probability of having exactly three hearts from selected cards;\n",
    "given that 7 playing cards are selected out of 32 are;\n",
    "\n",
    "7, 8, 9, 10, Jack, Queen, King, and Ace \n",
    "in Hearts 7, 8, 9, 10, Jack, Queen, King, and Ace\n",
    "in Diamonds 7, 8, 9, 10, Jack, Queen, King, and Ace \n",
    "in Clubs 7, 8, 9, 10, Jack, Queen, King, and Ace \n",
    "\n",
    "in Spade P(3hearts|32C7)= 8C3*24C4/32C7 = 56*10626/3365856 =5,95,056/3365856 =0.1767"
   ]
  },
  {
   "cell_type": "markdown",
   "id": "c6b5e703",
   "metadata": {},
   "source": [
    "4)What is the probability of flipping a coin and getting the head fallen five times in a row ?"
   ]
  },
  {
   "cell_type": "code",
   "execution_count": null,
   "id": "9ac33d43",
   "metadata": {},
   "outputs": [],
   "source": [
    "S={H,H,H,H,H /H,H,H,H,T/H,H,H,T,H/H,H,H,T,T/H,H,T,H,H/H,H,T,H,T H,H,T,T,H/H,H,T,T,T/H,T,H,H,H/H,T,H,H,T/H,T,H,T,H\n",
    "   /H,T,H,T,T H,T,T,H,H/H,T,T,H,T/H,T,T,T,H/H,T,T,T,T/T,H,H,H,H/T,H,H,H,T T,H,H,T,H/T,H,H,T,T/T,H,T,H,H/T,H,T,H,T\n",
    "   /T,H,T,T,H/T,H,T,T,T T,T,H,H,H/T,T,H,H,T/T,T,H,T,H/T,T,H,T,T/T,T,T,H,H/T,T,T,H,T T,T,T,T,H/T,T,T,T,T}\n",
    "\n",
    "n(S)=2^5=32\n",
    "P(S)=n(A)/n(S) \n",
    "=1/32 =0.03125=3.125"
   ]
  },
  {
   "cell_type": "markdown",
   "id": "7c9b207d",
   "metadata": {},
   "source": [
    "5)A customer wants to buy a bread and a can. There are 30 pieces of bread in the shop, including 5 from the previous day, and 20 cans with unreadable expiration date, of which one has expired. What is the probability that the customer will buy a fresh bread and a tin under warranty ?"
   ]
  },
  {
   "cell_type": "code",
   "execution_count": null,
   "id": "e527d4cf",
   "metadata": {},
   "outputs": [],
   "source": [
    "Given, that there are 30 pieces of bread and 5 are stale. \n",
    "So, fresh bread = (30-5) = 25 Probability of selecting 25 fresh breads from 30 pieces is: \n",
    "    P = 25/30 =5/6 Again, there is 1 expired can from 20 cans. \n",
    "    So, cans with warranty = (20-1) = 19 Probability of selecting 19 warranted cans from 20 is: \n",
    "    P' = 19/20 Therefore, the total probability of selecting a fresh bread and warranted tin = P*P' = (5/6*19/20) = 19/24"
   ]
  },
  {
   "cell_type": "markdown",
   "id": "5b19103f",
   "metadata": {},
   "source": [
    "6)Abstracted secretary placed three letters randomly into three envelopes. What is the probability that at least one of the recipients gets his letter ?"
   ]
  },
  {
   "cell_type": "code",
   "execution_count": null,
   "id": "05209d0c",
   "metadata": {},
   "outputs": [],
   "source": [
    "There are 6 possibilities of the event.\n",
    "All 3 recipients get their respective letters (1 possibility),\n",
    "only 1 one receives his letter (3 possibilities), \n",
    "none receive their letter (2 possibilities). \n",
    "Probability that at least one of the recipients gets his letter = 1 - Probability that none receive their letter = \n",
    "1–2/6 = 4/6 = 2/3 Or \n",
    "Probability that at least one of the recipients gets the letter = Probability that all receive their letters + Probability that only one receives his letter =\n",
    "1/6+3/6 = 4/6 = 2/3"
   ]
  },
  {
   "cell_type": "markdown",
   "id": "117719cc",
   "metadata": {},
   "source": [
    "7)There are 10 pots exposed in the shop, 2 of which have hidden defects. The customer buys two pieces. What is the probability that at least one of them has a hidden bug ?"
   ]
  },
  {
   "cell_type": "raw",
   "id": "552849fb",
   "metadata": {},
   "source": [
    "\n",
    "The probability of at least one of the two pots having a hidden defect can be calculated using the binomial distribution. \n",
    "The formula for the binomial distribution is: \n",
    "    \n",
    "    P(X=k)=nCk p^k(1-p)^n-k \n",
    "    \n",
    "where: n is the number of trials (2 pots in this case)\n",
    "    \n",
    "        k is the number of successes (at least one pot having a hidden defect) \n",
    "        p is the probability of success (a pot having a hidden defect, which is 2/10) \n",
    "        \n",
    "To calculate the probability of at least one pot having a hidden defect, we need to calculate the probability of getting exactly one pot with a hidden defect and \n",
    "the probability of getting both pots with hidden defects, and then add these probabilities together. Using the binomial distribution formula, we can calculate these probabilities as follows:\n",
    "    \n",
    "    P(X≥1)=P(X=1)+P(X=2) =2C1(2/10)^1(8/10)^1+2C2(2/10)^2(8/10)^0 \n",
    "    Using a calculator or software, we can find that: \n",
    "    P(X≥1)≈0.36 \n",
    "    \n",
    "Therefore, the probability that at least one of the two pots has a hidden defect is approximately 0.36 or 36%."
   ]
  },
  {
   "cell_type": "markdown",
   "id": "0d426fb7",
   "metadata": {},
   "source": [
    "8)What is the probability of throwing one dice seven times in a row and getting the number 6 fallen exactly 3 times ?"
   ]
  },
  {
   "cell_type": "code",
   "execution_count": null,
   "id": "dab309ef",
   "metadata": {},
   "outputs": [],
   "source": [
    "There are 2 such possible outcomes after each throw and 2^7 = 128\n",
    "possible outcomes after 7 throws.\n",
    "\n",
    "Those with a 6 showing up 3 times and no 6 turning up 4 times 7C3= 7!/ (4!) (3!) = 35. \n",
    "Probability of such an outcome =P(X = k) = (n! / (k! * (n - k)!)) * p^k * (1 - p)^(n - k) n=7,k=3 P(X = k) is the probability of getting k successes in n trials.\n",
    "\n",
    "n is the number of trials, which is 7 in this case.\n",
    "k is the number of successes, which is 3 in this case.\n",
    "p is the probability of success on a single trial, which is 1/6 since there are six possible outcomes on a single dice roll. \n",
    "\n",
    "=35* [ (1/6)^3]* [ (5/6)^4] =.07814286…~ 7.8%."
   ]
  },
  {
   "cell_type": "markdown",
   "id": "b28e8c1c",
   "metadata": {},
   "source": [
    "9)The test contains 10 questions, each one with available four different answers, among which just one is correct. To pass the test at least 5 questions must be answered correctly. What is the probability that completely unprepared student will pass the test ?"
   ]
  },
  {
   "cell_type": "code",
   "execution_count": null,
   "id": "987608c2",
   "metadata": {},
   "outputs": [],
   "source": [
    "The probability of a completely unprepared student passing the test can be calculated using the binomial distribution. \n",
    "The formula for the binomial distribution is:\n",
    "    \n",
    "    P(X=k)=nCk p^k(1-p)^n-k\n",
    "    \n",
    "where: n is the number of trials (10 questions in this case) \n",
    "       k is the number of successes (answering a question correctly) \n",
    "        p is the probability of success (answering a question correctly by guessing, which is 1/4) To pass the test, at least 5 questions must be answered correctly. \n",
    "    \n",
    "Therefore, we need to calculate the probability of getting 5 or more questions correct. \n",
    "This can be done by calculating the probability of getting exactly 5, exactly 6, and so on, up to exactly 10 questions correct, and then adding these probabilities together. \n",
    "Using the binomial distribution formula, we can calculate these probabilities as follows: \n",
    "    \n",
    "P(X≥5)=P(X=5)+P(X=6)+⋯+P(X=10) \n",
    "=Summation(k=5 to 10)10Ck(1/4)^k(3/4)^10-k \n",
    "\n",
    "Using a calculator or software, we can find that: P(X≥5)≈0.0329\n",
    "Therefore, the probability of a completely unprepared student passing the test is approximately 0.0329 or 3.29%."
   ]
  },
  {
   "cell_type": "markdown",
   "id": "40f58762",
   "metadata": {},
   "source": [
    "10)We have 100 tickets in the hat numbered from 1 to 100. With what probability will we pull out a number that is divisible by two or by five ?"
   ]
  },
  {
   "cell_type": "code",
   "execution_count": null,
   "id": "41c585b9",
   "metadata": {},
   "outputs": [],
   "source": [
    "The probability of pulling out a number that is divisible by two or by five can be calculated using the principle of inclusion-exclusion.\n",
    "There are 50 numbers between 1 and 100 that are divisible by two, and 20 numbers that are divisible by five. \n",
    "However, there are also 10 numbers that are divisible by both two and five (i.e., the multiples of 10). \n",
    "Therefore, the total number of numbers between 1 and 100 that are divisible by two or by five is: \n",
    "50+20−10=60 So, the probability of pulling out a number that is divisible by two or by five is: 60/100=3/5=0.6 \n",
    "Therefore, the probability of pulling out a number that is divisible by two or by five from the hat is 0.6 or 60%."
   ]
  },
  {
   "cell_type": "markdown",
   "id": "17b77877",
   "metadata": {},
   "source": [
    "11)There are 49 products in the box, from which only 6 are high quality. What is the probability of pulling out 6 random products from the box and having at least four of them high quality ?"
   ]
  },
  {
   "cell_type": "code",
   "execution_count": null,
   "id": "803c8e11",
   "metadata": {},
   "outputs": [],
   "source": [
    "The probability of pulling out 6 random products from the box and having at least four of them high quality can be calculated using the hypergeometric distribution. \n",
    "The formula for the hypergeometric distribution is:\n",
    "    \n",
    "    P(X=k)=KCk (N-K)C(n-k)/NCn\n",
    "\n",
    "where:\n",
    "\n",
    "N is the total number of products in the box (49 in this case) \n",
    "K is the number of high-quality products in the box (6 in this case) \n",
    "n is the number of products drawn (6 in this case) k is the number of high-quality products drawn (at least 4 in this case)\n",
    "\n",
    "To calculate the probability of having at least four high-quality products, we need to calculate the probability of getting exactly 4, exactly 5, and exactly 6 high-quality products, and then add these probabilities\n",
    "together.\n",
    "Using the hypergeometric distribution formula, we can calculate these probabilities as follows:\n",
    "    \n",
    "    P(X≥4)=P(X=4)+P(X=5)+P(X=6) \n",
    "    \n",
    " Using a calculator or software, we can find that: P(X≥4)≈0.0003 \n",
    "Therefore, the probability of pulling out 6 random products from the box and having at least four of them high quality is approximately 0.0003 or 0.03%."
   ]
  },
  {
   "cell_type": "markdown",
   "id": "1349b560",
   "metadata": {},
   "source": [
    "12)What is the probability of throwing two dice and getting the sum of the fallen numbers exactly 9 ?"
   ]
  },
  {
   "cell_type": "code",
   "execution_count": null,
   "id": "1607996c",
   "metadata": {},
   "outputs": [],
   "source": [
    "S={(1,1),(1,2),(1,3),(1,4),(1,5),(1,6) \n",
    "   (2,1),(2,2),(2,3),(2,4),(2,5),(2,6)\n",
    "   (3,1),(3,2),(3,3),(3,4),(3,5),(3,6) \n",
    "   (4,1),(4,2),(4,3),(4,4),(4,5),(4,6)\n",
    "   (5,1),(5,2),(5,3),(5,4),(5,5),(5,6) \n",
    "   (6,1),(6,2),(6,3),(6,4),(6,5),(6,6) } \n",
    "\n",
    "n(S)=36 \n",
    "\n",
    "The probability of throwing two dice and getting the sum of the fallen numbers exactly 9 is 4/36 or 1/9. \n",
    "This can be calculated by dividing the number of ways to get a sum of 9 by the total number of possible outcomes when two dice are thrown. \n",
    "The number of ways to get a sum of 9 is 4, which are (3,6), (4,5), (5,4), and (6,3) . \n",
    "The total number of possible outcomes when two dice are thrown is 36 . \n",
    "Therefore, the probability of getting a sum of 9 is 4/36 or 1/9."
   ]
  },
  {
   "cell_type": "markdown",
   "id": "96cecfc8",
   "metadata": {},
   "source": [
    "13)What is the probability of throwing one dice and get :"
   ]
  },
  {
   "cell_type": "code",
   "execution_count": null,
   "id": "bb60d4a7",
   "metadata": {},
   "outputs": [],
   "source": [
    "A) the even number \n",
    "\n",
    "b) the number divisible by three c) the number less than six ?\n",
    "\n",
    "S={1,2,3,4,5,6} \n",
    "n(S)=6 \n",
    "\n",
    "a)A=Probabilty of getting even number: \n",
    "    \n",
    "A={2,4,6} n(A)=3 P(A)=n(A)/n(S) =3/6 =1/2 \n",
    "\n",
    "b)A=Probabilty of getting number divisible by three: \n",
    "    \n",
    "A={3,6} n(A)=2 P(A)=n(A)/n(S) =2/6 =1/3 c)\n",
    "A=Probabilty of getting number less than six :\n",
    "A={1,2,3,4,5} n(A)=5 P(A)=n(A)/n(S) =5/6"
   ]
  },
  {
   "cell_type": "markdown",
   "id": "f79e6bd2",
   "metadata": {},
   "source": [
    "14)There are 60 chemical flasks in the laboratory, 6 of which are incorrectly labeled. What is the chance that if we randomly choose 5 flasks, exactly 3 of them will be labeled correctly ?"
   ]
  },
  {
   "cell_type": "code",
   "execution_count": null,
   "id": "761b0d5d",
   "metadata": {},
   "outputs": [],
   "source": [
    "\n",
    "P(X = r) = nCr p^r (1 - p)^(n - r) = 5C3 \n",
    "(54/60)^3 (6/60 )^2 = 10 x 0.729 x 0.01 = 0.0729 Or\n",
    "By Binomial Distribution: n=60 and p=54/60=0.9 P(X=3)=5C3(0.9)^3(0.1)^2 =0.0729"
   ]
  },
  {
   "cell_type": "markdown",
   "id": "e6b4a9c0",
   "metadata": {},
   "source": [
    "15)What is the probability that if we choose a trinity from 19 boys and 12 girls, we will have :\n"
   ]
  },
  {
   "cell_type": "code",
   "execution_count": null,
   "id": "e1bc910e",
   "metadata": {},
   "outputs": [],
   "source": [
    "a) three boys \n",
    "b) three girls \n",
    "c) two boys and one girl ?\n",
    "\n",
    "Here probability that we choose a trinity from 19(boys)+12(girls)\n",
    "S=19boys and 12 girls n(S)=31 31C3=4495 \n",
    "\n",
    "a) The probability of choosing 3 boys out of 19 boys is given by the combination formula: \n",
    "19C3=969 Therefore, the probability of choosing a trinity where there are three boys is: \n",
    "969/4495=0.216 \n",
    "\n",
    "b)The probability of choosing 3 girls out of 12 girls is given by the combination formula:\n",
    "12C3=220 \n",
    "Therefore, the probability of choosing a trinity where there are three girls is: \n",
    "220 / 4495 ≈ 0.049 \n",
    "\n",
    "c) The probability of choosing two boys and one girl is given by the combination formula:\n",
    "    \n",
    "C(19,2) * C(12,1) = (19! / (2! * (19-2)!)) * (12! / (1! * (12-1)!)) = 3876 \n",
    "Therefore,the probability of choosing a trinity where there are two boys and one girl is: 3876 / 4495 ≈ 0.862 \n",
    "So the chance that if we choose a trinity from 19 boys and 12 girls, we will have: \n",
    "    \n",
    "a) three boys is approximately 21.6%.\n",
    "b) three girls is approximately 4.9%.\n",
    "c) two boys and one girl is approximately 86.2%"
   ]
  },
  {
   "cell_type": "markdown",
   "id": "f5ec9a67",
   "metadata": {},
   "source": [
    "16)There are 30 products in the box, from which 3 are faulty. Find the probability of pulling out 5 random products from the box and having among them at most two the faulty ones."
   ]
  },
  {
   "cell_type": "code",
   "execution_count": null,
   "id": "d6a303b6",
   "metadata": {},
   "outputs": [],
   "source": [
    "P(X>=2)=1-[P(X=3)] \n",
    "=1-(27C2*3C3)/30C5 \n",
    "=1-(351*1)/142506\n",
    "=1-0.002463 =0.9975 Or \n",
    "27C3*3C2+27C4*3C1+27C5*3C0/30C5=0.9975"
   ]
  },
  {
   "cell_type": "markdown",
   "id": "f9965cd5",
   "metadata": {},
   "source": [
    "17)Johnny wrote a random natural number from 1 to 20. Determine the probability that he wrote a prime number."
   ]
  },
  {
   "cell_type": "code",
   "execution_count": null,
   "id": "5ce078f5",
   "metadata": {},
   "outputs": [],
   "source": [
    "The primes from 1 to 20 are 2, 3, 5, 7, 11, 13, 17, 19. \n",
    "There are 8 of them. \n",
    "So the probability of getting a prime number is 8/20 = 2/5."
   ]
  },
  {
   "cell_type": "markdown",
   "id": "48c4ec74",
   "metadata": {},
   "source": [
    "18)Suzie has available the digits 0, 2, 3, 4, 5, 6, 7. What is the probability that when she creates a random three-digit number from the given digits, it will be the number 445 ?"
   ]
  },
  {
   "cell_type": "code",
   "execution_count": null,
   "id": "d11327da",
   "metadata": {},
   "outputs": [],
   "source": [
    "The probability of creating a random three-digit number from the digits 0, 2, 3, 4, 5, 6, 7 and \n",
    "getting the number 445 is equal to the probability of choosing the digit 4 for the first place, \n",
    "the digit 4 for the second place, and \n",
    "the digit 5 for the third place. \n",
    "Since each digit can be chosen only once, the probability of this happening is: \n",
    "    \n",
    "    1/7 * 1/6 * 1/5 = 1/210 Therefore, the probability that Suzie will create a random three-digit number from the given digits and \n",
    "    it will be the number 445 is approximately 0.48% or 1/210."
   ]
  },
  {
   "cell_type": "markdown",
   "id": "cea30d24",
   "metadata": {},
   "source": [
    "19)Out of 100 pairs of shoes 5 pairs are of poor quality. The auditor selects randomly four pairs of the shoes. What is the probability that at least one from the selected pairs is of poor quality ?"
   ]
  },
  {
   "cell_type": "code",
   "execution_count": null,
   "id": "73cc345b",
   "metadata": {},
   "outputs": [],
   "source": [
    "The probability of selecting at least one pair of poor quality shoes out of four pairs selected randomly from 100 pairs of shoes with 5 pairs of poor quality can be calculated as follows: \n",
    "    \n",
    "The total number of ways to select 4 pairs out of 100 is given by the combination formula, \n",
    "which is: C(100,4) = 100! / (4! * (100-4)!) = 3,921,225 \n",
    "The number of ways to select no poor quality pairs is given by:\n",
    "    \n",
    "C(95,4) = 95! / (4! * (95-4)!) = 81,024,540 \n",
    "Therefore, the probability of selecting at least one pair of poor quality shoes is: \n",
    "1 - 81,024,540 / 3,921,225 ≈ 0.99998 \n",
    "So the chance that at least one from the selected pairs is of poor quality is approximately 99.998%."
   ]
  },
  {
   "cell_type": "markdown",
   "id": "9325ab06",
   "metadata": {},
   "source": [
    "20)In the lottery 5 numbers are drawn from among 35. For 3 correctly guessed numbers lottery pays the third prize. What is the probability of winning the third prize, if we submit just one ticket with 5 guessed numbers ?"
   ]
  },
  {
   "cell_type": "code",
   "execution_count": null,
   "id": "975e49de",
   "metadata": {},
   "outputs": [],
   "source": [
    "The probability of winning the third prize in the lottery where 5 numbers are drawn from among 35 and for 3 correctly guessed numbers lottery pays the third prize can be calculated as follows: \n",
    "The total number of ways to choose 5 numbers out of 35 is given by the combination formula, which is:\n",
    "    \n",
    "C(35,5) = 35! / (5! * (35-5)!) = 324,632 \n",
    "\n",
    "The number of ways to choose exactly 3 correctly guessed numbers out of 5 is given by: \n",
    "C(5,3) = 10 \n",
    "The number of ways to choose exactly 2 incorrectly guessed numbers out of 30 is given by: \n",
    "C(30,2) = 435 Therefore, the probability of winning the third prize with one ticket with 5 guessed numbers is: \n",
    "(10 * 435) / 324,632 ≈ 0.013 So the chance of winning the third prize with one ticket with 5 guessed numbers is approximately 1.3%"
   ]
  },
  {
   "cell_type": "markdown",
   "id": "051fdd85",
   "metadata": {},
   "source": [
    "21)In the mall they have 100 TV sets, of which 85 are of the first and 15 are of the second quality. The first ten customers received the TV set of the first quality. What is the probability that the eleventh customer will buy the TV set of the second quality ?"
   ]
  },
  {
   "cell_type": "code",
   "execution_count": null,
   "id": "d7590542",
   "metadata": {},
   "outputs": [],
   "source": [
    "The probability of the eleventh customer buying the TV set of the second quality can be calculated as follows:\n",
    "The total number of TV sets remaining in the mall after the first ten customers bought the TV set of the first quality is 100 - 10 = 90.\n",
    "The number of TV sets of the second quality remaining in the mall is 15. Therefore, the probability that the eleventh customer will buy the TV set of the second quality is: \n",
    "15 / 90 = 1 / 6 So the chance that the eleventh customer will buy the TV set of the second quality is approximately 16.67% or 1/6."
   ]
  }
 ],
 "metadata": {
  "kernelspec": {
   "display_name": "Python 3 (ipykernel)",
   "language": "python",
   "name": "python3"
  },
  "language_info": {
   "codemirror_mode": {
    "name": "ipython",
    "version": 3
   },
   "file_extension": ".py",
   "mimetype": "text/x-python",
   "name": "python",
   "nbconvert_exporter": "python",
   "pygments_lexer": "ipython3",
   "version": "3.11.4"
  }
 },
 "nbformat": 4,
 "nbformat_minor": 5
}
