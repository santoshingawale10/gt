{
 "cells": [
  {
   "cell_type": "markdown",
   "id": "4d1d98ff",
   "metadata": {},
   "source": [
    "# Wap Area of rectangle"
   ]
  },
  {
   "cell_type": "code",
   "execution_count": 32,
   "id": "0b3ecea3",
   "metadata": {},
   "outputs": [
    {
     "name": "stdout",
     "output_type": "stream",
     "text": [
      "length in cm50\n",
      "breadth in cm20\n",
      "Your area of rectangle is: 1000 cm^2\n"
     ]
    }
   ],
   "source": [
    "l = int(input(\"length in cm\"))\n",
    "b = int(input(\"breadth in cm\"))\n",
    "a = l * b\n",
    "print(\"Your area of rectangle is:\",a,\"cm^2\")"
   ]
  },
  {
   "cell_type": "markdown",
   "id": "3b50253f",
   "metadata": {},
   "source": [
    "# Wap Area of Circle"
   ]
  },
  {
   "cell_type": "code",
   "execution_count": 2,
   "id": "06b2b170",
   "metadata": {},
   "outputs": [
    {
     "name": "stdout",
     "output_type": "stream",
     "text": [
      "enter your radius50\n",
      "Your area is: 7850.0\n"
     ]
    }
   ],
   "source": [
    "r = int(input(\"enter your radius\"))\n",
    "a = 3.14*(r*r)\n",
    "print(\"Your area is:\",a)"
   ]
  },
  {
   "cell_type": "markdown",
   "id": "275b31c4",
   "metadata": {},
   "source": [
    "# Wap Area of Cuboid"
   ]
  },
  {
   "cell_type": "code",
   "execution_count": 3,
   "id": "ecee574e",
   "metadata": {
    "scrolled": true
   },
   "outputs": [
    {
     "name": "stdout",
     "output_type": "stream",
     "text": [
      "Enter length10\n",
      "Enter breadth20\n",
      "Enter height10\n",
      "The area is: 1000\n"
     ]
    }
   ],
   "source": [
    "l = int(input(\"Enter length\"))\n",
    "b = int(input(\"Enter breadth\"))\n",
    "h = int(input(\"Enter height\"))\n",
    "a = 2*(l*b+b*h+h*l)\n",
    "print(\"The area is:\",a)"
   ]
  },
  {
   "cell_type": "markdown",
   "id": "4634a960",
   "metadata": {},
   "source": [
    "# Wap Area of Cube"
   ]
  },
  {
   "cell_type": "code",
   "execution_count": 4,
   "id": "22da4bc0",
   "metadata": {},
   "outputs": [
    {
     "name": "stdout",
     "output_type": "stream",
     "text": [
      "Enter length of cube5\n",
      "The area of cube is: 150\n"
     ]
    }
   ],
   "source": [
    "a = int(input(\"Enter length of cube\"))\n",
    "x=6*(a*a)\n",
    "print(\"The area of cube is:\",x)"
   ]
  },
  {
   "cell_type": "markdown",
   "id": "37a1d247",
   "metadata": {},
   "source": [
    "# Wap Area of CSA of Cylinder"
   ]
  },
  {
   "cell_type": "code",
   "execution_count": 5,
   "id": "6331ec49",
   "metadata": {},
   "outputs": [
    {
     "name": "stdout",
     "output_type": "stream",
     "text": [
      "Enter Radius5\n",
      "Enter Height23\n",
      "Your C.S.A is: 722.2\n"
     ]
    }
   ],
   "source": [
    "r = int(input(\"Enter Radius\"))\n",
    "h = int(input(\"Enter Height\"))\n",
    "a=2*(3.14*(r*h))\n",
    "print(\"Your C.S.A is:\",a)"
   ]
  },
  {
   "cell_type": "markdown",
   "id": "cf28cfb8",
   "metadata": {},
   "source": [
    "# Wap Area of TSA of Cylinder"
   ]
  },
  {
   "cell_type": "code",
   "execution_count": 6,
   "id": "b2b6e01d",
   "metadata": {},
   "outputs": [
    {
     "name": "stdout",
     "output_type": "stream",
     "text": [
      "enter radius5\n",
      "enter height6\n",
      "area is: 345.40000000000003\n"
     ]
    }
   ],
   "source": [
    "r = int(input(\"enter radius\"))\n",
    "h = int(input(\"enter height\"))\n",
    "a=2*3.14*r*(r+h)\n",
    "print(\"area is:\",a)"
   ]
  },
  {
   "cell_type": "markdown",
   "id": "4983c91a",
   "metadata": {},
   "source": [
    "# Wap Area of CSA of Cone"
   ]
  },
  {
   "cell_type": "code",
   "execution_count": 7,
   "id": "19a89c59",
   "metadata": {},
   "outputs": [
    {
     "name": "stdout",
     "output_type": "stream",
     "text": [
      "Enter radius5\n",
      "Enter length5\n",
      "csa is: 78.5\n"
     ]
    }
   ],
   "source": [
    "r = int(input(\"Enter radius\"))\n",
    "l = int(input(\"Enter length\"))\n",
    "a=3.14*r*l\n",
    "print(\"csa is:\",a)"
   ]
  },
  {
   "cell_type": "markdown",
   "id": "c92ae499",
   "metadata": {},
   "source": [
    "# Wap Area of TSA of Right Circular cone"
   ]
  },
  {
   "cell_type": "code",
   "execution_count": 8,
   "id": "bfa6d06c",
   "metadata": {},
   "outputs": [
    {
     "name": "stdout",
     "output_type": "stream",
     "text": [
      "Enter radius5\n",
      "Enter slant heights3\n",
      "The TSA is: 125.60000000000001\n"
     ]
    }
   ],
   "source": [
    "r = int(input(\"Enter radius\"))\n",
    "l = int(input(\"Enter slant heights\"))\n",
    "a=3.14*r*(l+r)\n",
    "print(\"The TSA is:\",a)"
   ]
  },
  {
   "cell_type": "markdown",
   "id": "748e97e8",
   "metadata": {},
   "source": [
    "# Wap TSA of sphere"
   ]
  },
  {
   "cell_type": "code",
   "execution_count": 9,
   "id": "25ba4918",
   "metadata": {},
   "outputs": [
    {
     "name": "stdout",
     "output_type": "stream",
     "text": [
      "Enter radius5\n",
      "tsa of sphere: 314.0\n"
     ]
    }
   ],
   "source": [
    "r = int(input(\"Enter radius\"))\n",
    "a = 4*(3.14*(r*r))\n",
    "print(\"tsa of sphere:\",a)"
   ]
  },
  {
   "cell_type": "markdown",
   "id": "706bc180",
   "metadata": {},
   "source": [
    "# Wap Volume of Cuboide"
   ]
  },
  {
   "cell_type": "code",
   "execution_count": 10,
   "id": "daf7b25d",
   "metadata": {},
   "outputs": [
    {
     "name": "stdout",
     "output_type": "stream",
     "text": [
      "Enter length5\n",
      "Enter breadth6\n",
      "Enter height2\n",
      "Volume of Cuboide is: 60\n"
     ]
    }
   ],
   "source": [
    "l = int(input(\"Enter length\"))\n",
    "b = int(input(\"Enter breadth\"))\n",
    "h = int(input(\"Enter height\"))\n",
    "a = l*b*h\n",
    "print(\"Volume of Cuboide is:\",a)"
   ]
  },
  {
   "cell_type": "markdown",
   "id": "c6b4a808",
   "metadata": {},
   "source": [
    "# Wap Volume of Cube"
   ]
  },
  {
   "cell_type": "code",
   "execution_count": 11,
   "id": "55d74639",
   "metadata": {},
   "outputs": [
    {
     "name": "stdout",
     "output_type": "stream",
     "text": [
      "Enter length5\n",
      "Volume of Cube is: 125\n"
     ]
    }
   ],
   "source": [
    "l = int(input(\"Enter length\"))\n",
    "a = l*l*l\n",
    "print(\"Volume of Cube is:\",a)"
   ]
  },
  {
   "cell_type": "markdown",
   "id": "f68cf381",
   "metadata": {},
   "source": [
    "# Wap Volume of Cylinder"
   ]
  },
  {
   "cell_type": "code",
   "execution_count": 12,
   "id": "2a05df95",
   "metadata": {},
   "outputs": [
    {
     "name": "stdout",
     "output_type": "stream",
     "text": [
      "Enter radius2\n",
      "Enter height9\n",
      "Volume is: 113.04\n"
     ]
    }
   ],
   "source": [
    "r = int(input(\"Enter radius\"))\n",
    "h = int(input(\"Enter height\"))\n",
    "a = 3.14*(r*r)*h\n",
    "print(\"Volume is:\",a)"
   ]
  },
  {
   "cell_type": "markdown",
   "id": "64a223f7",
   "metadata": {},
   "source": [
    "# Wap Volume of Cone"
   ]
  },
  {
   "cell_type": "code",
   "execution_count": 13,
   "id": "7ccbc09f",
   "metadata": {},
   "outputs": [
    {
     "name": "stdout",
     "output_type": "stream",
     "text": [
      "Enter radius5\n",
      "Enter height3\n",
      "Volume is: 78.5\n"
     ]
    }
   ],
   "source": [
    "r = int(input(\"Enter radius\"))\n",
    "h = int(input(\"Enter height\"))\n",
    "v = 1/3*(3.14*(r*r)*h)\n",
    "print(\"Volume is:\",v)"
   ]
  },
  {
   "cell_type": "markdown",
   "id": "71873dc8",
   "metadata": {},
   "source": [
    "# Wap Volume of sphere"
   ]
  },
  {
   "cell_type": "code",
   "execution_count": 14,
   "id": "21fac6b4",
   "metadata": {},
   "outputs": [
    {
     "name": "stdout",
     "output_type": "stream",
     "text": [
      "Enter radius2\n",
      "Volume is: 33.49333333333333\n"
     ]
    }
   ],
   "source": [
    "r = int(input(\"Enter radius\"))\n",
    "v = 4/3*(3.14*(r*r*r))\n",
    "print(\"Volume is:\",v)"
   ]
  },
  {
   "cell_type": "markdown",
   "id": "852a2939",
   "metadata": {},
   "source": [
    "# Wap perimeter of rectangle"
   ]
  },
  {
   "cell_type": "code",
   "execution_count": 15,
   "id": "0de0e2d1",
   "metadata": {},
   "outputs": [
    {
     "name": "stdout",
     "output_type": "stream",
     "text": [
      "Enter length26\n",
      "Enter breadth12\n",
      "Perimeter of rectangle: 76\n"
     ]
    }
   ],
   "source": [
    "l = int(input(\"Enter length\"))\n",
    "b = int(input(\"Enter breadth\"))\n",
    "a = 2*(l+b)\n",
    "print(\"Perimeter of rectangle:\",a)"
   ]
  },
  {
   "cell_type": "markdown",
   "id": "c38b32bf",
   "metadata": {},
   "source": [
    "# Wap area of square"
   ]
  },
  {
   "cell_type": "code",
   "execution_count": 16,
   "id": "a34fde55",
   "metadata": {},
   "outputs": [
    {
     "name": "stdout",
     "output_type": "stream",
     "text": [
      "Enter length in cm2\n",
      "Your area of square is: 4 cm^2\n"
     ]
    }
   ],
   "source": [
    "l = int(input(\"Enter length in cm\"))\n",
    "x = l*l\n",
    "print(\"Your area of square is:\",x,\"cm^2\")"
   ]
  },
  {
   "cell_type": "markdown",
   "id": "772cfefd",
   "metadata": {},
   "source": [
    "# Wap area of Triangle"
   ]
  },
  {
   "cell_type": "code",
   "execution_count": 17,
   "id": "8bdefad7",
   "metadata": {},
   "outputs": [
    {
     "name": "stdout",
     "output_type": "stream",
     "text": [
      "Enter height4\n",
      "Enter breadth5\n",
      "your area is: 10.0 cm^2\n"
     ]
    }
   ],
   "source": [
    "h = int(input(\"Enter height\"))\n",
    "b = int(input(\"Enter breadth\"))\n",
    "a = 1/2*(b*h)\n",
    "print(\"your area is:\",a,\"cm^2\")"
   ]
  },
  {
   "cell_type": "markdown",
   "id": "d97f317d",
   "metadata": {},
   "source": [
    "# Wap Greatest no. in three no."
   ]
  },
  {
   "cell_type": "code",
   "execution_count": 18,
   "id": "0ddd1608",
   "metadata": {},
   "outputs": [
    {
     "name": "stdout",
     "output_type": "stream",
     "text": [
      "Enter First No5\n",
      "Enter Second No6\n",
      "Enter Third No7\n",
      "The greatest no is: 7\n"
     ]
    }
   ],
   "source": [
    "a = int(input(\"Enter First No\"))\n",
    "b = int(input(\"Enter Second No\"))\n",
    "c = int(input(\"Enter Third No\"))\n",
    "if a>b:\n",
    "    if a>c:\n",
    "        print(\"The greatest no is:\",a)\n",
    "    else:\n",
    "        print(\"The greatest no is:\",c)\n",
    "else:\n",
    "    if b>c:\n",
    "        print(\"The greatest no is:\",b)\n",
    "    else:\n",
    "        print(\"The greatest no is:\",c)\n"
   ]
  },
  {
   "cell_type": "markdown",
   "id": "aa07ec53",
   "metadata": {},
   "source": [
    "# Wap perimeter of triangle"
   ]
  },
  {
   "cell_type": "code",
   "execution_count": 19,
   "id": "0d0f652a",
   "metadata": {
    "scrolled": true
   },
   "outputs": [
    {
     "name": "stdout",
     "output_type": "stream",
     "text": [
      "Enter first side of triangle2\n",
      "Enter second side of triangle3\n",
      "Enter third side of tiangle3\n",
      "The perimeter is: 8\n"
     ]
    }
   ],
   "source": [
    "a = int(input(\"Enter first side of triangle\"))\n",
    "b = int(input(\"Enter second side of triangle\"))\n",
    "c = int(input(\"Enter third side of tiangle\"))\n",
    "perimeter = a+b+c\n",
    "print(\"The perimeter is:\",perimeter)"
   ]
  },
  {
   "cell_type": "markdown",
   "id": "b0152284",
   "metadata": {},
   "source": [
    "# Wap Greatest no. in four no."
   ]
  },
  {
   "cell_type": "code",
   "execution_count": 20,
   "id": "50906f28",
   "metadata": {
    "scrolled": true
   },
   "outputs": [
    {
     "name": "stdout",
     "output_type": "stream",
     "text": [
      "Enter first no55\n",
      "Enter second no66\n",
      "Enter third no33\n",
      "Enter fourth no55\n",
      "greatest number is: 66.0\n"
     ]
    }
   ],
   "source": [
    "a = float(input(\"Enter first no\"))\n",
    "b = float(input(\"Enter second no\"))\n",
    "c = float(input(\"Enter third no\"))\n",
    "d = float(input(\"Enter fourth no\"))\n",
    "if (a>b and a>c and a>d):\n",
    "    print(\"greatest number is:\",a)\n",
    "elif (b>c and b>d):\n",
    "    print(\"greatest number is:\",b)\n",
    "elif(c>d):\n",
    "    print(\"greatest number is:\",c)\n",
    "elif(d>c):\n",
    "    print(\"greatest number is:\",d)\n",
    "else:\n",
    "    print(\"Either any two values or all the four values are equal\")"
   ]
  },
  {
   "cell_type": "markdown",
   "id": "fe238521",
   "metadata": {},
   "source": [
    "# Wap to check division in result"
   ]
  },
  {
   "cell_type": "code",
   "execution_count": 1,
   "id": "f7de93d8",
   "metadata": {},
   "outputs": [
    {
     "name": "stdout",
     "output_type": "stream",
     "text": [
      "enter marks out of 300251\n",
      "percentage is 83.66666666666667\n",
      "Your division is first\n"
     ]
    }
   ],
   "source": [
    "a = eval(input(\"enter marks out of 300\"))\n",
    "b = a/300*100\n",
    "print(\"percentage is\",b)\n",
    "if(a>300):\n",
    "    print(\"You entered a wrong marks\")\n",
    "elif b>60:\n",
    "    print(\"Your division is first\")\n",
    "elif(b>50 and b<53):\n",
    "    print(\"Your division is second\")\n",
    "elif(b>33 and b<50):\n",
    "    print(\"Your division is third\")\n",
    "else:\n",
    "    print(\"fail\")"
   ]
  },
  {
   "cell_type": "markdown",
   "id": "d5c3cef6",
   "metadata": {},
   "source": [
    "# Wap to check age criteria"
   ]
  },
  {
   "cell_type": "code",
   "execution_count": 2,
   "id": "50cfcfb0",
   "metadata": {
    "scrolled": true
   },
   "outputs": [
    {
     "name": "stdout",
     "output_type": "stream",
     "text": [
      "enter your age17\n",
      "teenager\n"
     ]
    }
   ],
   "source": [
    "y = int(input(\"enter your age\"))\n",
    "if(y>0 and y<12):\n",
    "    print(\"Kid\")\n",
    "elif(y>=12 and y<19):\n",
    "    print(\"teenager\")\n",
    "elif(y>19 and y<30):\n",
    "    print(\"Young\")\n",
    "elif(y>30 and y<45):\n",
    "    print(\"mature\")\n",
    "elif(y>45 and y<60):\n",
    "    print(\"experienced\")\n",
    "elif(y>60 and y<75):\n",
    "    print(\"old\")\n",
    "elif(y>75):\n",
    "    print(\"senior citizen\")"
   ]
  },
  {
   "cell_type": "markdown",
   "id": "4c7cd3bc",
   "metadata": {},
   "source": [
    "# Wap sum of Nth No."
   ]
  },
  {
   "cell_type": "code",
   "execution_count": 3,
   "id": "91fa969d",
   "metadata": {
    "scrolled": true
   },
   "outputs": [
    {
     "name": "stdout",
     "output_type": "stream",
     "text": [
      "enter limit5\n",
      "the sum is 10\n"
     ]
    }
   ],
   "source": [
    "n = int(input(\"enter limit\"))\n",
    "s = 0\n",
    "for c in range(1,n):\n",
    "    s=c+s\n",
    "print(\"the sum is\",s)"
   ]
  },
  {
   "cell_type": "markdown",
   "id": "920e9797",
   "metadata": {},
   "source": [
    "# Wap to cheak the value of factorial"
   ]
  },
  {
   "cell_type": "code",
   "execution_count": 5,
   "id": "6b11acd6",
   "metadata": {},
   "outputs": [
    {
     "name": "stdout",
     "output_type": "stream",
     "text": [
      "enter a number5\n",
      "the factorial of 5 is 120\n"
     ]
    }
   ],
   "source": [
    "a = int(input(\"enter a number\"))\n",
    "factorial = 1\n",
    "if a<0:\n",
    "    print(\"sorry, factorial does not exist for negative number\")\n",
    "elif a==0:\n",
    "    print(\"the factorial of 0 is 1\")\n",
    "else:\n",
    "    for i in range (1,a+1):\n",
    "        factorial=factorial*i\n",
    "    print(\"the factorial of\",a,\"is\",factorial)"
   ]
  },
  {
   "cell_type": "markdown",
   "id": "3a760219",
   "metadata": {},
   "source": [
    "# Wap to print multiplication table"
   ]
  },
  {
   "cell_type": "code",
   "execution_count": 6,
   "id": "0c95b166",
   "metadata": {
    "scrolled": true
   },
   "outputs": [
    {
     "name": "stdout",
     "output_type": "stream",
     "text": [
      "show the multiplication table of?5\n",
      "5 X 1 = 5\n",
      "5 X 2 = 10\n",
      "5 X 3 = 15\n",
      "5 X 4 = 20\n",
      "5 X 5 = 25\n",
      "5 X 6 = 30\n",
      "5 X 7 = 35\n",
      "5 X 8 = 40\n",
      "5 X 9 = 45\n",
      "5 X 10 = 50\n"
     ]
    }
   ],
   "source": [
    "a = int(input(\"show the multiplication table of?\"))\n",
    "for i in range(1,11):\n",
    "    print(a,\"X\",i,\"=\",a*i)"
   ]
  },
  {
   "cell_type": "markdown",
   "id": "06b465fc",
   "metadata": {},
   "source": [
    "# Wap to print opposite Right Angle Triangle"
   ]
  },
  {
   "cell_type": "code",
   "execution_count": 7,
   "id": "d1ab848f",
   "metadata": {
    "scrolled": false
   },
   "outputs": [
    {
     "name": "stdout",
     "output_type": "stream",
     "text": [
      "Enter the number rows5\n",
      "*****\n",
      "****\n",
      "***\n",
      "**\n",
      "*\n"
     ]
    }
   ],
   "source": [
    "num = int(input(\"Enter the number rows\"))\n",
    "for i in range(num,0,-1):\n",
    "    for j in range(0,i):\n",
    "        print(\"*\",end=\"\")\n",
    "    print()"
   ]
  },
  {
   "cell_type": "markdown",
   "id": "61041b0b",
   "metadata": {},
   "source": [
    "# Wap to print 1,22,333,4444,55555"
   ]
  },
  {
   "cell_type": "code",
   "execution_count": 10,
   "id": "f644d0e5",
   "metadata": {},
   "outputs": [
    {
     "name": "stdout",
     "output_type": "stream",
     "text": [
      "enter the no of rows5\n",
      "1\n",
      "22\n",
      "333\n",
      "4444\n",
      "55555\n"
     ]
    }
   ],
   "source": [
    "n = int(input(\"enter the no of rows\"))\n",
    "for i in range(1,n+1):\n",
    "    for j in range(1,i+1):\n",
    "        print(i,end=\"\")\n",
    "    print()"
   ]
  },
  {
   "cell_type": "markdown",
   "id": "390a832b",
   "metadata": {},
   "source": [
    "# Wap to print star pattern of opposite Triangle"
   ]
  },
  {
   "cell_type": "code",
   "execution_count": 9,
   "id": "21775ab3",
   "metadata": {
    "scrolled": true
   },
   "outputs": [
    {
     "name": "stdout",
     "output_type": "stream",
     "text": [
      "enter the number rows5\n",
      "     *\n",
      "    **\n",
      "   ***\n",
      "  ****\n",
      " *****\n"
     ]
    }
   ],
   "source": [
    "num = int(input(\"enter the number rows\"))\n",
    "for i in range (0,num):\n",
    "    for j in range (0,num-i):\n",
    "        print(\" \",end=\"\")\n",
    "    for k in range(0,i+1):\n",
    "        print(\"*\",end=\"\")\n",
    "    print(\"\")"
   ]
  },
  {
   "cell_type": "markdown",
   "id": "dcc0555b",
   "metadata": {},
   "source": [
    "# Wap to print star pattern of opposite Triangle"
   ]
  },
  {
   "cell_type": "code",
   "execution_count": 12,
   "id": "6b247185",
   "metadata": {
    "scrolled": true
   },
   "outputs": [
    {
     "name": "stdout",
     "output_type": "stream",
     "text": [
      "enter the no of rows:5\n",
      "1\n",
      "12\n",
      "123\n",
      "1234\n",
      "12345\n"
     ]
    }
   ],
   "source": [
    "n = int(input(\"enter the no of rows:\"))\n",
    "for i in range(1,n+1):\n",
    "    for j in range(1,i+1):\n",
    "        print(j,end=\"\")\n",
    "    print()"
   ]
  },
  {
   "cell_type": "markdown",
   "id": "2e1ad23c",
   "metadata": {},
   "source": [
    "# Wap to print fibonacci series use while loop"
   ]
  },
  {
   "cell_type": "code",
   "execution_count": 14,
   "id": "719b69d7",
   "metadata": {},
   "outputs": [
    {
     "name": "stdout",
     "output_type": "stream",
     "text": [
      "enter the range10\n",
      "0\n",
      "1\n",
      "1\n",
      "2\n",
      "3\n",
      "5\n",
      "8\n",
      "13\n",
      "21\n",
      "34\n"
     ]
    }
   ],
   "source": [
    "a = eval(input(\"enter the range\"))\n",
    "i=0\n",
    "first_value = 0\n",
    "second_value = 1\n",
    "while(i<a):\n",
    "    if(i<=1):\n",
    "        Next = i\n",
    "    else:\n",
    "        Next = first_value + second_value\n",
    "        first_value = second_value\n",
    "        second_value = Next\n",
    "    print(Next)\n",
    "    i=i+1"
   ]
  },
  {
   "cell_type": "markdown",
   "id": "5ba81f73",
   "metadata": {},
   "source": [
    "# Wap to print fibonacci series use for loop"
   ]
  },
  {
   "cell_type": "code",
   "execution_count": 16,
   "id": "5fd7862b",
   "metadata": {
    "scrolled": true
   },
   "outputs": [
    {
     "name": "stdout",
     "output_type": "stream",
     "text": [
      "enter the range10\n",
      "0\n",
      "1\n",
      "1\n",
      "2\n",
      "3\n",
      "5\n",
      "8\n",
      "13\n",
      "21\n",
      "34\n"
     ]
    }
   ],
   "source": [
    "number = int(input(\"enter the range\"))\n",
    "first_value=0\n",
    "second_value=1\n",
    "for num in range(0,number):\n",
    "    if(num<=1):\n",
    "        NEXT=num\n",
    "    else:\n",
    "        NEXT=first_value+second_value\n",
    "        first_value=second_value\n",
    "        second_value=NEXT\n",
    "    print(NEXT)"
   ]
  },
  {
   "cell_type": "markdown",
   "id": "8de13cdb",
   "metadata": {},
   "source": [
    "# Wap to print pattern A,AB,ABC"
   ]
  },
  {
   "cell_type": "code",
   "execution_count": 17,
   "id": "68d49a91",
   "metadata": {},
   "outputs": [
    {
     "name": "stdout",
     "output_type": "stream",
     "text": [
      "Enter a characterE\n",
      "A\n",
      "AB\n",
      "ABC\n",
      "ABCD\n",
      "ABCDE\n"
     ]
    }
   ],
   "source": [
    "ch=str(input(\"Enter a character\"))\n",
    "a=ord(ch)\n",
    "for x in range(65,a+1):\n",
    "    for c in range(65,x+1):\n",
    "        print(chr(c),end=\"\")\n",
    "    print(\"\")"
   ]
  },
  {
   "cell_type": "markdown",
   "id": "dc535b4b",
   "metadata": {},
   "source": [
    "# Wap to calculation of xn by for loop"
   ]
  },
  {
   "cell_type": "code",
   "execution_count": 18,
   "id": "a9896756",
   "metadata": {
    "scrolled": true
   },
   "outputs": [
    {
     "name": "stdout",
     "output_type": "stream",
     "text": [
      "enter no5\n",
      "enter power2\n",
      "25\n"
     ]
    }
   ],
   "source": [
    "x=int(input(\"enter no\"))\n",
    "b=int(input(\"enter power\"))\n",
    "y=x\n",
    "for a in range(0,b-1):\n",
    "    y=x*y\n",
    "print(y)"
   ]
  },
  {
   "cell_type": "markdown",
   "id": "9e9df605",
   "metadata": {},
   "source": [
    "# Wap to calculation of Xn"
   ]
  },
  {
   "cell_type": "code",
   "execution_count": 19,
   "id": "41d03d28",
   "metadata": {},
   "outputs": [
    {
     "name": "stdout",
     "output_type": "stream",
     "text": [
      "enter number2\n",
      "enter power2\n",
      "4\n"
     ]
    }
   ],
   "source": [
    "a=int(input(\"enter number\"))\n",
    "b=int(input(\"enter power\"))\n",
    "c=a**b\n",
    "print(c)"
   ]
  },
  {
   "cell_type": "markdown",
   "id": "5e0a5b93",
   "metadata": {},
   "source": [
    "# Wap to print the integer is palindrome or not palindrome"
   ]
  },
  {
   "cell_type": "code",
   "execution_count": 20,
   "id": "57a7006e",
   "metadata": {},
   "outputs": [
    {
     "name": "stdout",
     "output_type": "stream",
     "text": [
      "enter number121\n",
      "the number is palindrome\n"
     ]
    }
   ],
   "source": [
    "n=int(input(\"enter number\"))\n",
    "x=n\n",
    "r=0\n",
    "while n>0:\n",
    "    d=n%10\n",
    "    r=r*10+d\n",
    "    n=n//10\n",
    "if x==r:\n",
    "    print(\"the number is palindrome\")\n",
    "else:\n",
    "    print(\"The number is not palindrome\"):"
   ]
  },
  {
   "cell_type": "markdown",
   "id": "608a441b",
   "metadata": {},
   "source": [
    "# Wap to print factorial of list"
   ]
  },
  {
   "cell_type": "code",
   "execution_count": 21,
   "id": "d5eb8fb3",
   "metadata": {},
   "outputs": [
    {
     "name": "stdout",
     "output_type": "stream",
     "text": [
      "enter the element of list5\n",
      "do you want to enter more element:Y\n",
      "enter the element of list6\n",
      "do you want to enter more element:Y\n",
      "enter the element of list62\n",
      "do you want to enter more element:N\n",
      "the list is: [5, 6, 62]\n",
      "the factorial of each element is: [120, 720, 31469973260387937525653122354950764088012280797258232192163168247821107200000000000000]\n"
     ]
    }
   ],
   "source": [
    "a=[]\n",
    "fact=[]\n",
    "ch=\"y\"\n",
    "while ch==\"y\" or ch==\"Y\":\n",
    "    item= int(input(\"enter the element of list\"))\n",
    "    a.append(item)\n",
    "    ch=input(\"do you want to enter more element:\")\n",
    "print(\"the list is:\",a)\n",
    "for i in a:\n",
    "    f=1\n",
    "    for j in range(1,i+1):\n",
    "        f=f*j\n",
    "    fact.append(f)\n",
    "print(\"the factorial of each element is:\",fact)"
   ]
  },
  {
   "cell_type": "markdown",
   "id": "c9555bef",
   "metadata": {},
   "source": [
    "# Wap to print pascal triangle"
   ]
  },
  {
   "cell_type": "code",
   "execution_count": 22,
   "id": "bcd2314c",
   "metadata": {},
   "outputs": [
    {
     "name": "stdout",
     "output_type": "stream",
     "text": [
      "enter rows5\n",
      "    * \n",
      "   * * \n",
      "  * * * \n",
      " * * * * \n",
      "* * * * * \n"
     ]
    }
   ],
   "source": [
    "n = int(input(\"enter rows\"))\n",
    "for i in range(0,n):\n",
    "    for j in range(0,n-i-1):\n",
    "        print(end=\" \")\n",
    "    for j in range(0,i+1):\n",
    "        print(\"*\",end=\" \")\n",
    "    print()"
   ]
  },
  {
   "cell_type": "markdown",
   "id": "fef96c7a",
   "metadata": {},
   "source": [
    "# Wap to create a list of value inputted by user"
   ]
  },
  {
   "cell_type": "code",
   "execution_count": 23,
   "id": "afdbdecc",
   "metadata": {},
   "outputs": [
    {
     "name": "stdout",
     "output_type": "stream",
     "text": [
      "enter limit4\n",
      "enter element65\n",
      "enter element32\n",
      "enter element82\n",
      "enter element62\n",
      "[65, 32, 82, 62]\n"
     ]
    }
   ],
   "source": [
    "a=eval(input(\"enter limit\"))\n",
    "n=[]\n",
    "for a in range(1,a+1):\n",
    "    a=eval(input(\"enter element\"))\n",
    "    n.append(a)\n",
    "print(n)"
   ]
  },
  {
   "cell_type": "markdown",
   "id": "051ba1f4",
   "metadata": {},
   "source": [
    "# Wap to create a list of values inputted by user sort in increasing order"
   ]
  },
  {
   "cell_type": "code",
   "execution_count": 25,
   "id": "5e5f98c6",
   "metadata": {},
   "outputs": [
    {
     "name": "stdout",
     "output_type": "stream",
     "text": [
      "enter limit4\n",
      "enter element25\n",
      "enter element63\n",
      "enter element52\n",
      "enter element41\n",
      "[25, 63, 52, 41]\n",
      "after sorting the list is\n",
      "[25, 41, 52, 63]\n"
     ]
    }
   ],
   "source": [
    "a=eval(input(\"enter limit\"))\n",
    "lst=[]\n",
    "for a in range(1,a+1):\n",
    "    a=eval(input(\"enter element\"))\n",
    "    lst.append(a)\n",
    "print(lst)\n",
    "l=len(lst)\n",
    "for i in range(l):\n",
    "    for j in range(0,l-i-1):\n",
    "        if lst[j]>lst[j+1]:\n",
    "            temp=lst[j]\n",
    "            lst[j]=lst[j+1]\n",
    "            lst[j+1]=temp\n",
    "print(\"after sorting the list is\")\n",
    "print(lst)"
   ]
  },
  {
   "cell_type": "markdown",
   "id": "e35adfee",
   "metadata": {},
   "source": [
    "# Sorting in accending order use bubble sort"
   ]
  },
  {
   "cell_type": "code",
   "execution_count": 26,
   "id": "e12f3f14",
   "metadata": {},
   "outputs": [
    {
     "name": "stdout",
     "output_type": "stream",
     "text": [
      "enter limit4\n",
      "enter element5\n",
      "enter element2\n",
      "enter element3\n",
      "enter element4\n",
      "[5, 2, 3, 4]\n",
      "after sorting the list is\n",
      "[2, 2, 3, 4]\n"
     ]
    }
   ],
   "source": [
    "a=eval(input(\"enter limit\"))\n",
    "lst=[]\n",
    "for a in range(1,a+1):\n",
    "    a=eval(input(\"enter element\"))\n",
    "    lst.append(a)\n",
    "print(lst)\n",
    "l=len(lst)\n",
    "for i in range(l):\n",
    "    for j in range(0,l-i-1):\n",
    "        if lst[j]>lst[j+1]:\n",
    "            temp=lst[j]\n",
    "            lst[j]=lst[j+1]\n",
    "            lst[j+1]+temp\n",
    "print(\"after sorting the list is\")\n",
    "print(lst)"
   ]
  },
  {
   "cell_type": "markdown",
   "id": "7ad5bc29",
   "metadata": {},
   "source": [
    "# Wap in python to create a phone dictionary"
   ]
  },
  {
   "cell_type": "code",
   "execution_count": 27,
   "id": "c92bc7c5",
   "metadata": {},
   "outputs": [
    {
     "name": "stdout",
     "output_type": "stream",
     "text": [
      "enter limit2\n",
      "enter mobile number9529880512\n",
      "enter nameGanesh Bhoi\n",
      "enter mobile number9856783480\n",
      "enter nameKetan Patil\n",
      "{9529880512: 'Ganesh Bhoi', 9856783480: 'Ketan Patil'}\n",
      "enter the no to search in dictionary9529880512\n",
      "The name of person is Ganesh Bhoi\n"
     ]
    }
   ],
   "source": [
    "n=int(input(\"enter limit\"))\n",
    "m={}\n",
    "mob=0\n",
    "name=\"\"\n",
    "i=0\n",
    "for i in range(0,n):\n",
    "    mob=int(input(\"enter mobile number\"))\n",
    "    name=str(input(\"enter name\"))\n",
    "    z2=dict({mob:name})\n",
    "    m.update(z2)\n",
    "print(m)\n",
    "n=int(input(\"enter the no to search in dictionary\"))\n",
    "print(\"The name of person is\",m[n])"
   ]
  },
  {
   "cell_type": "markdown",
   "id": "043a7416",
   "metadata": {},
   "source": [
    "# Wap to find given number is prime or not"
   ]
  },
  {
   "cell_type": "code",
   "execution_count": 28,
   "id": "67480652",
   "metadata": {
    "scrolled": true
   },
   "outputs": [
    {
     "name": "stdout",
     "output_type": "stream",
     "text": [
      "enter number5\n",
      "5 is prime number\n"
     ]
    }
   ],
   "source": [
    "num=int(input(\"enter number\"))\n",
    "lim=int(num/2)+1\n",
    "for i in range(2,lim):\n",
    "    rem=num%i\n",
    "    if rem==0:\n",
    "        print(num,\"is not prime number\")\n",
    "else:\n",
    "    print(num,\"is prime number\")"
   ]
  },
  {
   "cell_type": "markdown",
   "id": "f7f0313f",
   "metadata": {},
   "source": [
    "# wap to find given number is even or odd"
   ]
  },
  {
   "cell_type": "code",
   "execution_count": 29,
   "id": "a8f828a1",
   "metadata": {
    "scrolled": true
   },
   "outputs": [
    {
     "name": "stdout",
     "output_type": "stream",
     "text": [
      "enter number6\n",
      "6 is even number\n"
     ]
    }
   ],
   "source": [
    "a=int(input(\"enter number\"))\n",
    "r=a%2\n",
    "if r==0:\n",
    "    print(a,\"is even number\")\n",
    "elif r>0:\n",
    "    print(a,\"is odd number\")\n",
    "else:\n",
    "    print(\"you enter a number is 0 or less than 0\")"
   ]
  },
  {
   "cell_type": "markdown",
   "id": "949ade6b",
   "metadata": {},
   "source": [
    "# Wap to create a tuple of values inputed by user"
   ]
  },
  {
   "cell_type": "code",
   "execution_count": 30,
   "id": "d13a8044",
   "metadata": {},
   "outputs": [
    {
     "name": "stdout",
     "output_type": "stream",
     "text": [
      "enter limit5\n",
      "enter element52\n",
      "enter element63\n",
      "enter element952\n",
      "enter element25\n",
      "enter element125\n",
      "tuple is (52, 63, 952, 25, 125)\n"
     ]
    }
   ],
   "source": [
    "a=()\n",
    "l=[]\n",
    "n=int(input(\"enter limit\"))\n",
    "for i in range(0,n):\n",
    "    item=int(input(\"enter element\"))\n",
    "    l.append(item)\n",
    "a=a+tuple(l)\n",
    "print(\"tuple is\",a)"
   ]
  },
  {
   "cell_type": "markdown",
   "id": "5727dce0",
   "metadata": {},
   "source": [
    "# Wap to reverse an integer"
   ]
  },
  {
   "cell_type": "code",
   "execution_count": 31,
   "id": "0c0c722c",
   "metadata": {},
   "outputs": [
    {
     "name": "stdout",
     "output_type": "stream",
     "text": [
      "enter the integer52145666\n",
      "The reversed integer is: 66654125\n"
     ]
    }
   ],
   "source": [
    "n=int(input(\"enter the integer\"))\n",
    "x=n\n",
    "r=0\n",
    "while n>0:\n",
    "    d=n%10\n",
    "    r=r*10+d\n",
    "    n=n//10\n",
    "print(\"The reversed integer is:\",r)"
   ]
  }
 ],
 "metadata": {
  "kernelspec": {
   "display_name": "Python 3 (ipykernel)",
   "language": "python",
   "name": "python3"
  },
  "language_info": {
   "codemirror_mode": {
    "name": "ipython",
    "version": 3
   },
   "file_extension": ".py",
   "mimetype": "text/x-python",
   "name": "python",
   "nbconvert_exporter": "python",
   "pygments_lexer": "ipython3",
   "version": "3.11.4"
  }
 },
 "nbformat": 4,
 "nbformat_minor": 5
}
